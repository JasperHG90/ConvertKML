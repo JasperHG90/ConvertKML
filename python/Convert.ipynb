{
 "metadata": {
  "name": "",
  "signature": "sha256:8eb61ca530db447734e6a2b807e28400be41b7ab6f821b178bf9ec1ad3b80cf9"
 },
 "nbformat": 3,
 "nbformat_minor": 0,
 "worksheets": [
  {
   "cells": [
    {
     "cell_type": "code",
     "collapsed": false,
     "input": [
      "'''\n",
      "Import modules\n",
      "'''\n",
      "\n",
      "import pandas as pd\n",
      "import os\n",
      "from bs4 import BeautifulSoup"
     ],
     "language": "python",
     "metadata": {},
     "outputs": [],
     "prompt_number": 1
    },
    {
     "cell_type": "code",
     "collapsed": false,
     "input": [
      "'''\n",
      "Create a list of document names. In my case, they are six documents, which I named 'g1.kml', 'g2.kml' etc.\n",
      "'''\n",
      "\n",
      "docs = ['g1.kml','g2.kml','g3.kml','g4.kml','g5.kml','g6.kml','g7.kml']"
     ],
     "language": "python",
     "metadata": {},
     "outputs": [],
     "prompt_number": 2
    },
    {
     "cell_type": "code",
     "collapsed": false,
     "input": [
      "'''\n",
      "Open a file on which to write\n",
      "'''\n",
      "\n",
      "g = open('location_data.txt', 'w')\n",
      "g.write(\"Datestamp\" + \";\" + \"Timestamp\" + \";\" + \"latitude\" + \";\" + \"longitude\" + \"\\n\")\n",
      "\n",
      "'''\n",
      "Take out coordinates in loop\n",
      "'''\n",
      "\n",
      "for n in docs:\n",
      "    # Open file\n",
      "    f = open(n,\"r\")\n",
      "    # Read\n",
      "    data = f.read()\n",
      "    soup = BeautifulSoup(data, \"html.parser\")\n",
      "    # Date/Time\n",
      "    when = soup.findAll('when')\n",
      "    # Lat/lon coordinates\n",
      "    where = soup.findAll('gx:coord')\n",
      "\n",
      "    # Iteration counter\n",
      "    b = 0\n",
      "\n",
      "    # Loop data extraction\n",
      "    for z in when:\n",
      "        if b == len(where)-1: \n",
      "            continue\n",
      "        else:\n",
      "            when_pos = when[b].contents[0] \n",
      "            when_date = when_pos.split('T')[0]\n",
      "            when_time = when_pos.split('T')[1].split('.')[0]\n",
      "            y = where[b].contents[0].split(\" \")[0]\n",
      "            x = where[b].contents[0].split(\" \")[1]\n",
      "\n",
      "            # add 1\n",
      "            b = b + 1\n",
      "    \n",
      "            g.write(when_date.encode('utf8') + \";\" + when_time.encode('utf8') + \";\" + x.encode(\"utf8\") + \";\" + y.encode('utf8') + \"\\n\")\n",
      "\n",
      "g.close()"
     ],
     "language": "python",
     "metadata": {},
     "outputs": [],
     "prompt_number": 6
    }
   ],
   "metadata": {}
  }
 ]
}